{
 "cells": [
  {
   "cell_type": "code",
   "execution_count": 1,
   "id": "bc2914e3",
   "metadata": {
    "_cell_guid": "b1076dfc-b9ad-4769-8c92-a6c4dae69d19",
    "_uuid": "8f2839f25d086af736a60e9eeb907d3b93b6e0e5",
    "execution": {
     "iopub.execute_input": "2022-07-08T15:23:27.170375Z",
     "iopub.status.busy": "2022-07-08T15:23:27.169686Z",
     "iopub.status.idle": "2022-07-08T15:23:38.660646Z",
     "shell.execute_reply": "2022-07-08T15:23:38.659260Z"
    },
    "papermill": {
     "duration": 11.500624,
     "end_time": "2022-07-08T15:23:38.664081",
     "exception": false,
     "start_time": "2022-07-08T15:23:27.163457",
     "status": "completed"
    },
    "tags": []
   },
   "outputs": [
    {
     "name": "stdout",
     "output_type": "stream",
     "text": [
      "/kaggle/input/league-of-legends-voice-lines/voice_lines.csv\n",
      "/kaggle/input/league-of-legends-voice-lines/LICENSE\n",
      "/kaggle/input/league-of-legends-voice-lines/README.md\n",
      "/kaggle/input/league-of-legends-voice-lines/utils/all_voice_lines.csv\n",
      "/kaggle/input/league-of-legends-voice-lines/utils/Wiki Scraping.ipynb\n",
      "/kaggle/input/league-of-legends-voice-lines/utils/.ipynb_checkpoints/Wiki Scraping-checkpoint.ipynb\n"
     ]
    }
   ],
   "source": [
    "# This Python 3 environment comes with many helpful analytics libraries installed\n",
    "# It is defined by the kaggle/python Docker image: https://github.com/kaggle/docker-python\n",
    "# For example, here's several helpful packages to load\n",
    "\n",
    "import numpy as np # linear algebra\n",
    "import pandas as pd # data processing, CSV file I/O (e.g. pd.read_csv)\n",
    "import tensorflow as tf\n",
    "from tensorflow import keras\n",
    "from tensorflow.keras import layers\n",
    "from keras.preprocessing.text import Tokenizer\n",
    "from sklearn.feature_extraction.text import CountVectorizer\n",
    "from tensorflow.keras.utils import to_categorical\n",
    "\n",
    "# Input data files are available in the read-only \"../input/\" directory\n",
    "# For example, running this (by clicking run or pressing Shift+Enter) will list all files under the input directory\n",
    "\n",
    "import os\n",
    "for dirname, _, filenames in os.walk('/kaggle/input'):\n",
    "    for filename in filenames:\n",
    "        print(os.path.join(dirname, filename))\n",
    "\n",
    "# You can write up to 20GB to the current directory (/kaggle/working/) that gets preserved as output when you create a version using \"Save & Run All\" \n",
    "# You can also write temporary files to /kaggle/temp/, but they won't be saved outside of the current session"
   ]
  },
  {
   "cell_type": "code",
   "execution_count": 2,
   "id": "6877ed35",
   "metadata": {
    "execution": {
     "iopub.execute_input": "2022-07-08T15:23:38.674828Z",
     "iopub.status.busy": "2022-07-08T15:23:38.674145Z",
     "iopub.status.idle": "2022-07-08T15:23:38.804296Z",
     "shell.execute_reply": "2022-07-08T15:23:38.803079Z"
    },
    "papermill": {
     "duration": 0.137667,
     "end_time": "2022-07-08T15:23:38.806538",
     "exception": false,
     "start_time": "2022-07-08T15:23:38.668871",
     "status": "completed"
    },
    "tags": []
   },
   "outputs": [
    {
     "data": {
      "text/html": [
       "<div>\n",
       "<style scoped>\n",
       "    .dataframe tbody tr th:only-of-type {\n",
       "        vertical-align: middle;\n",
       "    }\n",
       "\n",
       "    .dataframe tbody tr th {\n",
       "        vertical-align: top;\n",
       "    }\n",
       "\n",
       "    .dataframe thead th {\n",
       "        text-align: right;\n",
       "    }\n",
       "</style>\n",
       "<table border=\"1\" class=\"dataframe\">\n",
       "  <thead>\n",
       "    <tr style=\"text-align: right;\">\n",
       "      <th></th>\n",
       "      <th>Unnamed: 0</th>\n",
       "      <th>champion</th>\n",
       "      <th>voice_line</th>\n",
       "      <th>is_spoken</th>\n",
       "    </tr>\n",
       "  </thead>\n",
       "  <tbody>\n",
       "    <tr>\n",
       "      <th>0</th>\n",
       "      <td>0</td>\n",
       "      <td>Aatrox</td>\n",
       "      <td>Now, hear the silence of annihilation!</td>\n",
       "      <td>True</td>\n",
       "    </tr>\n",
       "    <tr>\n",
       "      <th>1</th>\n",
       "      <td>1</td>\n",
       "      <td>Aatrox</td>\n",
       "      <td>Let me end this!</td>\n",
       "      <td>True</td>\n",
       "    </tr>\n",
       "    <tr>\n",
       "      <th>2</th>\n",
       "      <td>2</td>\n",
       "      <td>Aatrox</td>\n",
       "      <td>Pantheon, I see you! Like a lamprey you attach...</td>\n",
       "      <td>True</td>\n",
       "    </tr>\n",
       "    <tr>\n",
       "      <th>3</th>\n",
       "      <td>3</td>\n",
       "      <td>Aatrox</td>\n",
       "      <td>Pantheon! I will crush your godhood, I will ev...</td>\n",
       "      <td>True</td>\n",
       "    </tr>\n",
       "    <tr>\n",
       "      <th>4</th>\n",
       "      <td>4</td>\n",
       "      <td>Aatrox</td>\n",
       "      <td>Targon sends an aspect against me? Prepare you...</td>\n",
       "      <td>True</td>\n",
       "    </tr>\n",
       "  </tbody>\n",
       "</table>\n",
       "</div>"
      ],
      "text/plain": [
       "   Unnamed: 0 champion                                         voice_line  \\\n",
       "0           0   Aatrox             Now, hear the silence of annihilation!   \n",
       "1           1   Aatrox                                   Let me end this!   \n",
       "2           2   Aatrox  Pantheon, I see you! Like a lamprey you attach...   \n",
       "3           3   Aatrox  Pantheon! I will crush your godhood, I will ev...   \n",
       "4           4   Aatrox  Targon sends an aspect against me? Prepare you...   \n",
       "\n",
       "   is_spoken  \n",
       "0       True  \n",
       "1       True  \n",
       "2       True  \n",
       "3       True  \n",
       "4       True  "
      ]
     },
     "execution_count": 2,
     "metadata": {},
     "output_type": "execute_result"
    }
   ],
   "source": [
    "voice_lines = pd.read_csv(\"/kaggle/input/league-of-legends-voice-lines/voice_lines.csv\")\n",
    "\n",
    "voice_lines.head()"
   ]
  },
  {
   "cell_type": "code",
   "execution_count": 3,
   "id": "de0610ff",
   "metadata": {
    "execution": {
     "iopub.execute_input": "2022-07-08T15:23:38.817069Z",
     "iopub.status.busy": "2022-07-08T15:23:38.815894Z",
     "iopub.status.idle": "2022-07-08T15:23:38.873760Z",
     "shell.execute_reply": "2022-07-08T15:23:38.872477Z"
    },
    "papermill": {
     "duration": 0.066033,
     "end_time": "2022-07-08T15:23:38.876551",
     "exception": false,
     "start_time": "2022-07-08T15:23:38.810518",
     "status": "completed"
    },
    "tags": []
   },
   "outputs": [
    {
     "data": {
      "text/html": [
       "<div>\n",
       "<style scoped>\n",
       "    .dataframe tbody tr th:only-of-type {\n",
       "        vertical-align: middle;\n",
       "    }\n",
       "\n",
       "    .dataframe tbody tr th {\n",
       "        vertical-align: top;\n",
       "    }\n",
       "\n",
       "    .dataframe thead th {\n",
       "        text-align: right;\n",
       "    }\n",
       "</style>\n",
       "<table border=\"1\" class=\"dataframe\">\n",
       "  <thead>\n",
       "    <tr style=\"text-align: right;\">\n",
       "      <th></th>\n",
       "      <th>Unnamed: 0</th>\n",
       "      <th>champion</th>\n",
       "      <th>voice_line</th>\n",
       "      <th>is_spoken</th>\n",
       "    </tr>\n",
       "  </thead>\n",
       "  <tbody>\n",
       "    <tr>\n",
       "      <th>count</th>\n",
       "      <td>28904.000000</td>\n",
       "      <td>28904</td>\n",
       "      <td>28904</td>\n",
       "      <td>28904</td>\n",
       "    </tr>\n",
       "    <tr>\n",
       "      <th>unique</th>\n",
       "      <td>NaN</td>\n",
       "      <td>158</td>\n",
       "      <td>28898</td>\n",
       "      <td>2</td>\n",
       "    </tr>\n",
       "    <tr>\n",
       "      <th>top</th>\n",
       "      <td>NaN</td>\n",
       "      <td>Kayn</td>\n",
       "      <td>This power is mine to command.</td>\n",
       "      <td>True</td>\n",
       "    </tr>\n",
       "    <tr>\n",
       "      <th>freq</th>\n",
       "      <td>NaN</td>\n",
       "      <td>864</td>\n",
       "      <td>2</td>\n",
       "      <td>26889</td>\n",
       "    </tr>\n",
       "    <tr>\n",
       "      <th>mean</th>\n",
       "      <td>18923.205785</td>\n",
       "      <td>NaN</td>\n",
       "      <td>NaN</td>\n",
       "      <td>NaN</td>\n",
       "    </tr>\n",
       "    <tr>\n",
       "      <th>std</th>\n",
       "      <td>11698.445450</td>\n",
       "      <td>NaN</td>\n",
       "      <td>NaN</td>\n",
       "      <td>NaN</td>\n",
       "    </tr>\n",
       "    <tr>\n",
       "      <th>min</th>\n",
       "      <td>0.000000</td>\n",
       "      <td>NaN</td>\n",
       "      <td>NaN</td>\n",
       "      <td>NaN</td>\n",
       "    </tr>\n",
       "    <tr>\n",
       "      <th>25%</th>\n",
       "      <td>8213.750000</td>\n",
       "      <td>NaN</td>\n",
       "      <td>NaN</td>\n",
       "      <td>NaN</td>\n",
       "    </tr>\n",
       "    <tr>\n",
       "      <th>50%</th>\n",
       "      <td>18205.500000</td>\n",
       "      <td>NaN</td>\n",
       "      <td>NaN</td>\n",
       "      <td>NaN</td>\n",
       "    </tr>\n",
       "    <tr>\n",
       "      <th>75%</th>\n",
       "      <td>29397.250000</td>\n",
       "      <td>NaN</td>\n",
       "      <td>NaN</td>\n",
       "      <td>NaN</td>\n",
       "    </tr>\n",
       "    <tr>\n",
       "      <th>max</th>\n",
       "      <td>39564.000000</td>\n",
       "      <td>NaN</td>\n",
       "      <td>NaN</td>\n",
       "      <td>NaN</td>\n",
       "    </tr>\n",
       "  </tbody>\n",
       "</table>\n",
       "</div>"
      ],
      "text/plain": [
       "          Unnamed: 0 champion                      voice_line is_spoken\n",
       "count   28904.000000    28904                           28904     28904\n",
       "unique           NaN      158                           28898         2\n",
       "top              NaN     Kayn  This power is mine to command.      True\n",
       "freq             NaN      864                               2     26889\n",
       "mean    18923.205785      NaN                             NaN       NaN\n",
       "std     11698.445450      NaN                             NaN       NaN\n",
       "min         0.000000      NaN                             NaN       NaN\n",
       "25%      8213.750000      NaN                             NaN       NaN\n",
       "50%     18205.500000      NaN                             NaN       NaN\n",
       "75%     29397.250000      NaN                             NaN       NaN\n",
       "max     39564.000000      NaN                             NaN       NaN"
      ]
     },
     "execution_count": 3,
     "metadata": {},
     "output_type": "execute_result"
    }
   ],
   "source": [
    "voice_lines.describe(include='all')"
   ]
  },
  {
   "cell_type": "code",
   "execution_count": 4,
   "id": "2e7afd3a",
   "metadata": {
    "execution": {
     "iopub.execute_input": "2022-07-08T15:23:38.886439Z",
     "iopub.status.busy": "2022-07-08T15:23:38.886069Z",
     "iopub.status.idle": "2022-07-08T15:23:38.925502Z",
     "shell.execute_reply": "2022-07-08T15:23:38.924305Z"
    },
    "papermill": {
     "duration": 0.047238,
     "end_time": "2022-07-08T15:23:38.927869",
     "exception": false,
     "start_time": "2022-07-08T15:23:38.880631",
     "status": "completed"
    },
    "tags": []
   },
   "outputs": [
    {
     "data": {
      "text/html": [
       "<div>\n",
       "<style scoped>\n",
       "    .dataframe tbody tr th:only-of-type {\n",
       "        vertical-align: middle;\n",
       "    }\n",
       "\n",
       "    .dataframe tbody tr th {\n",
       "        vertical-align: top;\n",
       "    }\n",
       "\n",
       "    .dataframe thead th {\n",
       "        text-align: right;\n",
       "    }\n",
       "</style>\n",
       "<table border=\"1\" class=\"dataframe\">\n",
       "  <thead>\n",
       "    <tr style=\"text-align: right;\">\n",
       "      <th></th>\n",
       "      <th>champion</th>\n",
       "      <th>voice_line</th>\n",
       "    </tr>\n",
       "  </thead>\n",
       "  <tbody>\n",
       "    <tr>\n",
       "      <th>count</th>\n",
       "      <td>26889</td>\n",
       "      <td>26889</td>\n",
       "    </tr>\n",
       "    <tr>\n",
       "      <th>unique</th>\n",
       "      <td>156</td>\n",
       "      <td>26883</td>\n",
       "    </tr>\n",
       "    <tr>\n",
       "      <th>top</th>\n",
       "      <td>Kayn</td>\n",
       "      <td>Rhaast.</td>\n",
       "    </tr>\n",
       "    <tr>\n",
       "      <th>freq</th>\n",
       "      <td>838</td>\n",
       "      <td>2</td>\n",
       "    </tr>\n",
       "  </tbody>\n",
       "</table>\n",
       "</div>"
      ],
      "text/plain": [
       "       champion voice_line\n",
       "count     26889      26889\n",
       "unique      156      26883\n",
       "top        Kayn    Rhaast.\n",
       "freq        838          2"
      ]
     },
     "execution_count": 4,
     "metadata": {},
     "output_type": "execute_result"
    }
   ],
   "source": [
    "voice_lines.drop(voice_lines[voice_lines.is_spoken == False].index, inplace=True)\n",
    "voice_lines.drop(['Unnamed: 0', 'is_spoken'], axis=1, inplace=True)\n",
    "\n",
    "voice_lines.describe(include='all')"
   ]
  },
  {
   "cell_type": "code",
   "execution_count": 5,
   "id": "a35874b7",
   "metadata": {
    "execution": {
     "iopub.execute_input": "2022-07-08T15:23:38.938390Z",
     "iopub.status.busy": "2022-07-08T15:23:38.937202Z",
     "iopub.status.idle": "2022-07-08T15:23:39.417990Z",
     "shell.execute_reply": "2022-07-08T15:23:39.416750Z"
    },
    "papermill": {
     "duration": 0.488383,
     "end_time": "2022-07-08T15:23:39.420398",
     "exception": false,
     "start_time": "2022-07-08T15:23:38.932015",
     "status": "completed"
    },
    "tags": []
   },
   "outputs": [
    {
     "name": "stderr",
     "output_type": "stream",
     "text": [
      "2022-07-08 15:23:38.984205: I tensorflow/core/common_runtime/process_util.cc:146] Creating new thread pool with default inter op setting: 2. Tune using inter_op_parallelism_threads for best performance.\n",
      "2022-07-08 15:23:39.102491: I tensorflow/compiler/mlir/mlir_graph_optimization_pass.cc:185] None of the MLIR Optimization Passes are enabled (registered 2)\n"
     ]
    },
    {
     "data": {
      "text/plain": [
       "<tf.Tensor: shape=(2, 3), dtype=int64, numpy=\n",
       "array([[ 2, 12, 11],\n",
       "       [11, 12,  2]])>"
      ]
     },
     "execution_count": 5,
     "metadata": {},
     "output_type": "execute_result"
    }
   ],
   "source": [
    "example_text = [\"this should be easy\", \"thats a mink if I've ever mink mink\", \"time to\"]\n",
    "\n",
    "vectorize_layer = keras.layers.TextVectorization(standardize=\"lower_and_strip_punctuation\",\n",
    "                                         split=\"whitespace\",\n",
    "                                         output_mode=\"int\")\n",
    "\n",
    "vectorize_layer.adapt(example_text)\n",
    "\n",
    "example = vectorize_layer([\"mink be easy\", \"easy be mink\"])\n",
    "example"
   ]
  },
  {
   "cell_type": "code",
   "execution_count": 6,
   "id": "1802a593",
   "metadata": {
    "execution": {
     "iopub.execute_input": "2022-07-08T15:23:39.430841Z",
     "iopub.status.busy": "2022-07-08T15:23:39.430450Z",
     "iopub.status.idle": "2022-07-08T15:25:13.225740Z",
     "shell.execute_reply": "2022-07-08T15:25:13.224401Z"
    },
    "papermill": {
     "duration": 93.803565,
     "end_time": "2022-07-08T15:25:13.228342",
     "exception": false,
     "start_time": "2022-07-08T15:23:39.424777",
     "status": "completed"
    },
    "tags": []
   },
   "outputs": [],
   "source": [
    "vectorize_layer.adapt(voice_lines[\"voice_line\"])\n",
    "\n",
    "voice_lines_tokenized = []\n",
    "\n",
    "for line in voice_lines[\"voice_line\"]:\n",
    "    token_list = vectorize_layer(line)\n",
    "    for i in range(1, len(token_list)):\n",
    "        n_gram_sequence = token_list[:i+1]\n",
    "        voice_lines_tokenized.append(n_gram_sequence.numpy().tolist())\n",
    "total_words = len(vectorize_layer.get_vocabulary())"
   ]
  },
  {
   "cell_type": "code",
   "execution_count": 7,
   "id": "e63bbd30",
   "metadata": {
    "execution": {
     "iopub.execute_input": "2022-07-08T15:25:13.239296Z",
     "iopub.status.busy": "2022-07-08T15:25:13.238241Z",
     "iopub.status.idle": "2022-07-08T15:25:13.246127Z",
     "shell.execute_reply": "2022-07-08T15:25:13.245056Z"
    },
    "papermill": {
     "duration": 0.015494,
     "end_time": "2022-07-08T15:25:13.248499",
     "exception": false,
     "start_time": "2022-07-08T15:25:13.233005",
     "status": "completed"
    },
    "tags": []
   },
   "outputs": [
    {
     "data": {
      "text/plain": [
       "[[41, 174],\n",
       " [41, 174, 2],\n",
       " [41, 174, 2, 590],\n",
       " [41, 174, 2, 590, 9],\n",
       " [41, 174, 2, 590, 9, 1336],\n",
       " [84, 10],\n",
       " [84, 10, 102],\n",
       " [84, 10, 102, 14],\n",
       " [1441, 3],\n",
       " [1441, 3, 48]]"
      ]
     },
     "execution_count": 7,
     "metadata": {},
     "output_type": "execute_result"
    }
   ],
   "source": [
    "voice_lines_tokenized[0:10]"
   ]
  },
  {
   "cell_type": "code",
   "execution_count": 8,
   "id": "454e5b5e",
   "metadata": {
    "execution": {
     "iopub.execute_input": "2022-07-08T15:25:13.259386Z",
     "iopub.status.busy": "2022-07-08T15:25:13.259010Z",
     "iopub.status.idle": "2022-07-08T15:25:14.065525Z",
     "shell.execute_reply": "2022-07-08T15:25:14.064701Z"
    },
    "papermill": {
     "duration": 0.814317,
     "end_time": "2022-07-08T15:25:14.067533",
     "exception": false,
     "start_time": "2022-07-08T15:25:13.253216",
     "status": "completed"
    },
    "tags": []
   },
   "outputs": [
    {
     "data": {
      "text/plain": [
       "array([[   0,    0,    0, ...,    0,    0,   41],\n",
       "       [   0,    0,    0, ...,    0,   41,  174],\n",
       "       [   0,    0,    0, ...,   41,  174,    2],\n",
       "       ...,\n",
       "       [   0,    0,    0, ...,    0,    0,   14],\n",
       "       [   0,    0,    0, ...,    0,   14, 2357],\n",
       "       [   0,    0,    0, ...,   14, 2357,    7]], dtype=int32)"
      ]
     },
     "execution_count": 8,
     "metadata": {},
     "output_type": "execute_result"
    }
   ],
   "source": [
    "from keras.preprocessing.sequence import pad_sequences\n",
    "def generate_padded_sequences(input_sequences):\n",
    "    max_sequence_len = max([len(x) for x in input_sequences])\n",
    "    input_sequences = np.array(pad_sequences(input_sequences, maxlen=max_sequence_len, padding='pre'))\n",
    "    \n",
    "    predictors, label = input_sequences[:,:-1],input_sequences[:,-1]\n",
    "    label = to_categorical(label, num_classes=total_words)\n",
    "    return predictors, label, max_sequence_len\n",
    "\n",
    "predictors, label, max_sequence_len = generate_padded_sequences(voice_lines_tokenized)\n",
    "\n",
    "predictors"
   ]
  },
  {
   "cell_type": "code",
   "execution_count": 9,
   "id": "5de26d92",
   "metadata": {
    "execution": {
     "iopub.execute_input": "2022-07-08T15:25:14.078302Z",
     "iopub.status.busy": "2022-07-08T15:25:14.077700Z",
     "iopub.status.idle": "2022-07-08T15:25:14.389996Z",
     "shell.execute_reply": "2022-07-08T15:25:14.388457Z"
    },
    "papermill": {
     "duration": 0.321546,
     "end_time": "2022-07-08T15:25:14.393503",
     "exception": false,
     "start_time": "2022-07-08T15:25:14.071957",
     "status": "completed"
    },
    "tags": []
   },
   "outputs": [
    {
     "name": "stdout",
     "output_type": "stream",
     "text": [
      "Model: \"sequential\"\n",
      "_________________________________________________________________\n",
      "Layer (type)                 Output Shape              Param #   \n",
      "=================================================================\n",
      "embedding (Embedding)        (None, 45, 10)            125570    \n",
      "_________________________________________________________________\n",
      "lstm (LSTM)                  (None, 100)               44400     \n",
      "_________________________________________________________________\n",
      "dropout (Dropout)            (None, 100)               0         \n",
      "_________________________________________________________________\n",
      "dense (Dense)                (None, 12557)             1268257   \n",
      "=================================================================\n",
      "Total params: 1,438,227\n",
      "Trainable params: 1,438,227\n",
      "Non-trainable params: 0\n",
      "_________________________________________________________________\n"
     ]
    }
   ],
   "source": [
    "def create_model(max_sequence_len, total_words):\n",
    "    input_len = max_sequence_len - 1\n",
    "    model = keras.Sequential()\n",
    "    \n",
    "    # Add Input Embedding Layer\n",
    "    model.add(keras.layers.Embedding(total_words, 10, input_length=input_len))\n",
    "    \n",
    "    # Add Hidden Layer 1 - LSTM Layer\n",
    "    model.add(keras.layers.LSTM(100))\n",
    "    model.add(keras.layers.Dropout(0.1))\n",
    "    \n",
    "    # Add Output Layer\n",
    "    model.add(keras.layers.Dense(total_words, activation='softmax'))\n",
    "\n",
    "    model.compile(loss='categorical_crossentropy', optimizer='adam')\n",
    "    \n",
    "    return model\n",
    "\n",
    "model = create_model(max_sequence_len, total_words)\n",
    "model.summary()"
   ]
  },
  {
   "cell_type": "code",
   "execution_count": 10,
   "id": "23265abd",
   "metadata": {
    "execution": {
     "iopub.execute_input": "2022-07-08T15:25:14.404920Z",
     "iopub.status.busy": "2022-07-08T15:25:14.404451Z",
     "iopub.status.idle": "2022-07-08T16:54:06.674057Z",
     "shell.execute_reply": "2022-07-08T16:54:06.672703Z"
    },
    "papermill": {
     "duration": 5332.286335,
     "end_time": "2022-07-08T16:54:06.684846",
     "exception": false,
     "start_time": "2022-07-08T15:25:14.398511",
     "status": "completed"
    },
    "tags": []
   },
   "outputs": [
    {
     "name": "stdout",
     "output_type": "stream",
     "text": [
      "Epoch 1/100\n",
      "Epoch 2/100\n",
      "Epoch 3/100\n",
      "Epoch 4/100\n",
      "Epoch 5/100\n",
      "Epoch 6/100\n",
      "Epoch 7/100\n",
      "Epoch 8/100\n",
      "Epoch 9/100\n",
      "Epoch 10/100\n",
      "Epoch 11/100\n",
      "Epoch 12/100\n",
      "Epoch 13/100\n",
      "Epoch 14/100\n",
      "Epoch 15/100\n",
      "Epoch 16/100\n",
      "Epoch 17/100\n",
      "Epoch 18/100\n",
      "Epoch 19/100\n",
      "Epoch 20/100\n",
      "Epoch 21/100\n",
      "Epoch 22/100\n",
      "Epoch 23/100\n",
      "Epoch 24/100\n",
      "Epoch 25/100\n",
      "Epoch 26/100\n",
      "Epoch 27/100\n",
      "Epoch 28/100\n",
      "Epoch 29/100\n",
      "Epoch 30/100\n",
      "Epoch 31/100\n",
      "Epoch 32/100\n",
      "Epoch 33/100\n",
      "Epoch 34/100\n",
      "Epoch 35/100\n",
      "Epoch 36/100\n",
      "Epoch 37/100\n",
      "Epoch 38/100\n",
      "Epoch 39/100\n",
      "Epoch 40/100\n",
      "Epoch 41/100\n",
      "Epoch 42/100\n",
      "Epoch 43/100\n",
      "Epoch 44/100\n",
      "Epoch 45/100\n",
      "Epoch 46/100\n",
      "Epoch 47/100\n",
      "Epoch 48/100\n",
      "Epoch 49/100\n",
      "Epoch 50/100\n",
      "Epoch 51/100\n",
      "Epoch 52/100\n",
      "Epoch 53/100\n",
      "Epoch 54/100\n",
      "Epoch 55/100\n",
      "Epoch 56/100\n",
      "Epoch 57/100\n",
      "Epoch 58/100\n",
      "Epoch 59/100\n",
      "Epoch 60/100\n",
      "Epoch 61/100\n",
      "Epoch 62/100\n",
      "Epoch 63/100\n",
      "Epoch 64/100\n",
      "Epoch 65/100\n",
      "Epoch 66/100\n",
      "Epoch 67/100\n",
      "Epoch 68/100\n",
      "Epoch 69/100\n",
      "Epoch 70/100\n",
      "Epoch 71/100\n",
      "Epoch 72/100\n",
      "Epoch 73/100\n",
      "Epoch 74/100\n",
      "Epoch 75/100\n",
      "Epoch 76/100\n",
      "Epoch 77/100\n",
      "Epoch 78/100\n",
      "Epoch 79/100\n",
      "Epoch 80/100\n",
      "Epoch 81/100\n",
      "Epoch 82/100\n",
      "Epoch 83/100\n",
      "Epoch 84/100\n",
      "Epoch 85/100\n",
      "Epoch 86/100\n",
      "Epoch 87/100\n",
      "Epoch 88/100\n",
      "Epoch 89/100\n",
      "Epoch 90/100\n",
      "Epoch 91/100\n",
      "Epoch 92/100\n",
      "Epoch 93/100\n",
      "Epoch 94/100\n",
      "Epoch 95/100\n",
      "Epoch 96/100\n",
      "Epoch 97/100\n",
      "Epoch 98/100\n",
      "Epoch 99/100\n",
      "Epoch 100/100\n"
     ]
    },
    {
     "data": {
      "text/plain": [
       "<keras.callbacks.History at 0x7fd62ca36090>"
      ]
     },
     "execution_count": 10,
     "metadata": {},
     "output_type": "execute_result"
    }
   ],
   "source": [
    "model.fit(predictors, label, batch_size=3000, epochs=100, verbose=5)"
   ]
  },
  {
   "cell_type": "code",
   "execution_count": 11,
   "id": "46f45ac1",
   "metadata": {
    "execution": {
     "iopub.execute_input": "2022-07-08T16:54:06.704495Z",
     "iopub.status.busy": "2022-07-08T16:54:06.704121Z",
     "iopub.status.idle": "2022-07-08T16:54:06.765371Z",
     "shell.execute_reply": "2022-07-08T16:54:06.764002Z"
    },
    "papermill": {
     "duration": 0.074364,
     "end_time": "2022-07-08T16:54:06.768159",
     "exception": false,
     "start_time": "2022-07-08T16:54:06.693795",
     "status": "completed"
    },
    "tags": []
   },
   "outputs": [],
   "source": [
    "from tensorflow.keras.models import load_model\n",
    "model.save('/path_to_model/model.h5')"
   ]
  },
  {
   "cell_type": "code",
   "execution_count": 12,
   "id": "8c353d3f",
   "metadata": {
    "execution": {
     "iopub.execute_input": "2022-07-08T16:54:06.788235Z",
     "iopub.status.busy": "2022-07-08T16:54:06.787800Z",
     "iopub.status.idle": "2022-07-08T16:54:06.795433Z",
     "shell.execute_reply": "2022-07-08T16:54:06.794252Z"
    },
    "papermill": {
     "duration": 0.020446,
     "end_time": "2022-07-08T16:54:06.797788",
     "exception": false,
     "start_time": "2022-07-08T16:54:06.777342",
     "status": "completed"
    },
    "tags": []
   },
   "outputs": [],
   "source": [
    "def generate_text(seed_text, next_words, model, max_sequence_len):\n",
    "    for _ in range(next_words):\n",
    "        token_list = vectorize_layer(seed_text)\n",
    "        token_list = pad_sequences([token_list], maxlen=max_sequence_len-1, padding='pre')\n",
    "        prediction = model.predict(token_list)[0]\n",
    "                \n",
    "        partition = np.argpartition(prediction, -5)[-5:]\n",
    "        word_index = partition[np.random.choice(partition.shape[0], 1, replace=False)][0]\n",
    "        seed_text += \" \"+vectorize_layer.get_vocabulary()[word_index]\n",
    "        \n",
    "    return seed_text.title()"
   ]
  },
  {
   "cell_type": "code",
   "execution_count": 13,
   "id": "76960e0a",
   "metadata": {
    "execution": {
     "iopub.execute_input": "2022-07-08T16:54:06.818969Z",
     "iopub.status.busy": "2022-07-08T16:54:06.817631Z",
     "iopub.status.idle": "2022-07-08T16:54:08.837489Z",
     "shell.execute_reply": "2022-07-08T16:54:08.836099Z"
    },
    "papermill": {
     "duration": 2.03388,
     "end_time": "2022-07-08T16:54:08.840717",
     "exception": false,
     "start_time": "2022-07-08T16:54:06.806837",
     "status": "completed"
    },
    "tags": []
   },
   "outputs": [
    {
     "name": "stdout",
     "output_type": "stream",
     "text": [
      "World Is The World To Be Contained To Be The Light And Not Be The First\n"
     ]
    }
   ],
   "source": [
    "print (generate_text(\"world\", 15, model, max_sequence_len))"
   ]
  }
 ],
 "metadata": {
  "kernelspec": {
   "display_name": "Python 3",
   "language": "python",
   "name": "python3"
  },
  "language_info": {
   "codemirror_mode": {
    "name": "ipython",
    "version": 3
   },
   "file_extension": ".py",
   "mimetype": "text/x-python",
   "name": "python",
   "nbconvert_exporter": "python",
   "pygments_lexer": "ipython3",
   "version": "3.7.12"
  },
  "papermill": {
   "default_parameters": {},
   "duration": 5455.247181,
   "end_time": "2022-07-08T16:54:12.641427",
   "environment_variables": {},
   "exception": null,
   "input_path": "__notebook__.ipynb",
   "output_path": "__notebook__.ipynb",
   "parameters": {},
   "start_time": "2022-07-08T15:23:17.394246",
   "version": "2.3.4"
  }
 },
 "nbformat": 4,
 "nbformat_minor": 5
}
